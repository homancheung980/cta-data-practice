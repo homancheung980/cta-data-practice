{
 "cells": [
  {
   "cell_type": "code",
   "execution_count": 2,
   "id": "18d12a4b-9a61-4f96-bbe3-0c2b9e2bbc71",
   "metadata": {},
   "outputs": [],
   "source": [
    "import pandas as pd\n",
    "import matplotlib.pyplot as plt\n",
    "%matplotlib inline"
   ]
  },
  {
   "cell_type": "code",
   "execution_count": 3,
   "id": "4cbfaee1-9952-4943-972b-3b67d9f4a5fc",
   "metadata": {},
   "outputs": [],
   "source": [
    "path = \"Data/CTA_Questionnaire.csv\"\n",
    "df = pd.read_csv(path)"
   ]
  },
  {
   "cell_type": "code",
   "execution_count": 4,
   "id": "24005fc6-2839-46b1-8c01-8f4140661876",
   "metadata": {},
   "outputs": [
    {
     "data": {
      "text/plain": [
       "pandas.core.frame.DataFrame"
      ]
     },
     "execution_count": 4,
     "metadata": {},
     "output_type": "execute_result"
    }
   ],
   "source": [
    "type(df)"
   ]
  },
  {
   "cell_type": "code",
   "execution_count": 5,
   "id": "ced60588-ad53-404e-8797-fd6e6307dd59",
   "metadata": {},
   "outputs": [
    {
     "name": "stdout",
     "output_type": "stream",
     "text": [
      "Hello\n"
     ]
    }
   ],
   "source": [
    "print(\"Hello\")"
   ]
  },
  {
   "cell_type": "code",
   "execution_count": 6,
   "id": "9d40737b-3a72-436d-a109-bd9fb90c7f3e",
   "metadata": {},
   "outputs": [
    {
     "data": {
      "text/html": [
       "<div>\n",
       "<style scoped>\n",
       "    .dataframe tbody tr th:only-of-type {\n",
       "        vertical-align: middle;\n",
       "    }\n",
       "\n",
       "    .dataframe tbody tr th {\n",
       "        vertical-align: top;\n",
       "    }\n",
       "\n",
       "    .dataframe thead th {\n",
       "        text-align: right;\n",
       "    }\n",
       "</style>\n",
       "<table border=\"1\" class=\"dataframe\">\n",
       "  <thead>\n",
       "    <tr style=\"text-align: right;\">\n",
       "      <th></th>\n",
       "      <th>Timestamp</th>\n",
       "      <th>Cook</th>\n",
       "      <th>Enjoy</th>\n",
       "      <th>Grocery</th>\n",
       "      <th>Favourite</th>\n",
       "      <th>Meals</th>\n",
       "      <th>Location</th>\n",
       "      <th>RestaurantType</th>\n",
       "      <th>Rating</th>\n",
       "    </tr>\n",
       "  </thead>\n",
       "  <tbody>\n",
       "    <tr>\n",
       "      <th>0</th>\n",
       "      <td>2024/10/17 2:13:19 PM GMT+1</td>\n",
       "      <td>Often (4-6 times weekly)</td>\n",
       "      <td>Yes!</td>\n",
       "      <td>Tesco;Sainsbury's;Chinese store!!!</td>\n",
       "      <td>Chinese Cuisine;Japanese Cuisine;Thai Cuisine</td>\n",
       "      <td>3</td>\n",
       "      <td>Central (Buckingham Palace, the West End, the ...</td>\n",
       "      <td>Thai Cuisine</td>\n",
       "      <td>2</td>\n",
       "    </tr>\n",
       "    <tr>\n",
       "      <th>1</th>\n",
       "      <td>2024/10/17 2:13:19 PM GMT+1</td>\n",
       "      <td>Often (4-6 times weekly)</td>\n",
       "      <td>Neutral</td>\n",
       "      <td>Asda;Lidl;Waitrose</td>\n",
       "      <td>Caribbean Cuisine;</td>\n",
       "      <td>4+</td>\n",
       "      <td>South (Clapham, Brixton, and Greenwich etc)</td>\n",
       "      <td>Caribbean Cuisine</td>\n",
       "      <td>5</td>\n",
       "    </tr>\n",
       "    <tr>\n",
       "      <th>2</th>\n",
       "      <td>2024/10/17 2:14:21 PM GMT+1</td>\n",
       "      <td>Rare (0-2 weekly)</td>\n",
       "      <td>Yes!</td>\n",
       "      <td>Waitrose</td>\n",
       "      <td>Chinese Cuisine;Italian Cuisine;Japanese Cuisine</td>\n",
       "      <td>2</td>\n",
       "      <td>East (Shoreditch, Hackney, Stratford, and Cana...</td>\n",
       "      <td>Chinese Cuisine</td>\n",
       "      <td>4</td>\n",
       "    </tr>\n",
       "    <tr>\n",
       "      <th>3</th>\n",
       "      <td>2024/10/17 2:14:35 PM GMT+1</td>\n",
       "      <td>Rare (0-2 weekly)</td>\n",
       "      <td>Neutral</td>\n",
       "      <td>Tesco;Sainsbury's;Farmers' Market /Independent...</td>\n",
       "      <td>Japanese Cuisine;Thai Cuisine;Burmese</td>\n",
       "      <td>3</td>\n",
       "      <td>East (Shoreditch, Hackney, Stratford, and Cana...</td>\n",
       "      <td>Japanese Cuisine;Thai Cuisine</td>\n",
       "      <td>3</td>\n",
       "    </tr>\n",
       "    <tr>\n",
       "      <th>4</th>\n",
       "      <td>2024/10/17 2:15:21 PM GMT+1</td>\n",
       "      <td>Very often (everyday!)</td>\n",
       "      <td>Yes!</td>\n",
       "      <td>Lidl</td>\n",
       "      <td>Indian Cuisine;Mexican Cuisine;Thai Cuisine</td>\n",
       "      <td>3</td>\n",
       "      <td>East (Shoreditch, Hackney, Stratford, and Cana...</td>\n",
       "      <td>Thai Cuisine</td>\n",
       "      <td>6</td>\n",
       "    </tr>\n",
       "  </tbody>\n",
       "</table>\n",
       "</div>"
      ],
      "text/plain": [
       "                     Timestamp                      Cook    Enjoy  \\\n",
       "0  2024/10/17 2:13:19 PM GMT+1  Often (4-6 times weekly)     Yes!   \n",
       "1  2024/10/17 2:13:19 PM GMT+1  Often (4-6 times weekly)  Neutral   \n",
       "2  2024/10/17 2:14:21 PM GMT+1         Rare (0-2 weekly)     Yes!   \n",
       "3  2024/10/17 2:14:35 PM GMT+1         Rare (0-2 weekly)  Neutral   \n",
       "4  2024/10/17 2:15:21 PM GMT+1    Very often (everyday!)     Yes!   \n",
       "\n",
       "                                             Grocery  \\\n",
       "0                 Tesco;Sainsbury's;Chinese store!!!   \n",
       "1                                 Asda;Lidl;Waitrose   \n",
       "2                                           Waitrose   \n",
       "3  Tesco;Sainsbury's;Farmers' Market /Independent...   \n",
       "4                                               Lidl   \n",
       "\n",
       "                                          Favourite Meals  \\\n",
       "0     Chinese Cuisine;Japanese Cuisine;Thai Cuisine     3   \n",
       "1                                Caribbean Cuisine;    4+   \n",
       "2  Chinese Cuisine;Italian Cuisine;Japanese Cuisine     2   \n",
       "3             Japanese Cuisine;Thai Cuisine;Burmese     3   \n",
       "4       Indian Cuisine;Mexican Cuisine;Thai Cuisine     3   \n",
       "\n",
       "                                            Location  \\\n",
       "0  Central (Buckingham Palace, the West End, the ...   \n",
       "1        South (Clapham, Brixton, and Greenwich etc)   \n",
       "2  East (Shoreditch, Hackney, Stratford, and Cana...   \n",
       "3  East (Shoreditch, Hackney, Stratford, and Cana...   \n",
       "4  East (Shoreditch, Hackney, Stratford, and Cana...   \n",
       "\n",
       "                  RestaurantType  Rating  \n",
       "0                   Thai Cuisine       2  \n",
       "1              Caribbean Cuisine       5  \n",
       "2                Chinese Cuisine       4  \n",
       "3  Japanese Cuisine;Thai Cuisine       3  \n",
       "4                   Thai Cuisine       6  "
      ]
     },
     "execution_count": 6,
     "metadata": {},
     "output_type": "execute_result"
    }
   ],
   "source": [
    "df.head()"
   ]
  },
  {
   "cell_type": "code",
   "execution_count": 7,
   "id": "9c39c8ce-39b9-473e-a639-d0f729b7017f",
   "metadata": {},
   "outputs": [
    {
     "data": {
      "text/html": [
       "<div>\n",
       "<style scoped>\n",
       "    .dataframe tbody tr th:only-of-type {\n",
       "        vertical-align: middle;\n",
       "    }\n",
       "\n",
       "    .dataframe tbody tr th {\n",
       "        vertical-align: top;\n",
       "    }\n",
       "\n",
       "    .dataframe thead th {\n",
       "        text-align: right;\n",
       "    }\n",
       "</style>\n",
       "<table border=\"1\" class=\"dataframe\">\n",
       "  <thead>\n",
       "    <tr style=\"text-align: right;\">\n",
       "      <th></th>\n",
       "      <th>Timestamp</th>\n",
       "      <th>Cook</th>\n",
       "      <th>Enjoy</th>\n",
       "      <th>Grocery</th>\n",
       "      <th>Favourite</th>\n",
       "      <th>Meals</th>\n",
       "      <th>Location</th>\n",
       "      <th>RestaurantType</th>\n",
       "      <th>Rating</th>\n",
       "    </tr>\n",
       "  </thead>\n",
       "  <tbody>\n",
       "    <tr>\n",
       "      <th>0</th>\n",
       "      <td>2024/10/17 2:13:19 PM GMT+1</td>\n",
       "      <td>Often (4-6 times weekly)</td>\n",
       "      <td>Yes!</td>\n",
       "      <td>Tesco;Sainsbury's;Chinese store!!!</td>\n",
       "      <td>Chinese Cuisine;Japanese Cuisine;Thai Cuisine</td>\n",
       "      <td>3</td>\n",
       "      <td>Central (Buckingham Palace, the West End, the ...</td>\n",
       "      <td>Thai Cuisine</td>\n",
       "      <td>2</td>\n",
       "    </tr>\n",
       "    <tr>\n",
       "      <th>1</th>\n",
       "      <td>2024/10/17 2:13:19 PM GMT+1</td>\n",
       "      <td>Often (4-6 times weekly)</td>\n",
       "      <td>Neutral</td>\n",
       "      <td>Asda;Lidl;Waitrose</td>\n",
       "      <td>Caribbean Cuisine;</td>\n",
       "      <td>4+</td>\n",
       "      <td>South (Clapham, Brixton, and Greenwich etc)</td>\n",
       "      <td>Caribbean Cuisine</td>\n",
       "      <td>5</td>\n",
       "    </tr>\n",
       "    <tr>\n",
       "      <th>2</th>\n",
       "      <td>2024/10/17 2:14:21 PM GMT+1</td>\n",
       "      <td>Rare (0-2 weekly)</td>\n",
       "      <td>Yes!</td>\n",
       "      <td>Waitrose</td>\n",
       "      <td>Chinese Cuisine;Italian Cuisine;Japanese Cuisine</td>\n",
       "      <td>2</td>\n",
       "      <td>East (Shoreditch, Hackney, Stratford, and Cana...</td>\n",
       "      <td>Chinese Cuisine</td>\n",
       "      <td>4</td>\n",
       "    </tr>\n",
       "    <tr>\n",
       "      <th>3</th>\n",
       "      <td>2024/10/17 2:14:35 PM GMT+1</td>\n",
       "      <td>Rare (0-2 weekly)</td>\n",
       "      <td>Neutral</td>\n",
       "      <td>Tesco;Sainsbury's;Farmers' Market /Independent...</td>\n",
       "      <td>Japanese Cuisine;Thai Cuisine;Burmese</td>\n",
       "      <td>3</td>\n",
       "      <td>East (Shoreditch, Hackney, Stratford, and Cana...</td>\n",
       "      <td>Japanese Cuisine;Thai Cuisine</td>\n",
       "      <td>3</td>\n",
       "    </tr>\n",
       "    <tr>\n",
       "      <th>4</th>\n",
       "      <td>2024/10/17 2:15:21 PM GMT+1</td>\n",
       "      <td>Very often (everyday!)</td>\n",
       "      <td>Yes!</td>\n",
       "      <td>Lidl</td>\n",
       "      <td>Indian Cuisine;Mexican Cuisine;Thai Cuisine</td>\n",
       "      <td>3</td>\n",
       "      <td>East (Shoreditch, Hackney, Stratford, and Cana...</td>\n",
       "      <td>Thai Cuisine</td>\n",
       "      <td>6</td>\n",
       "    </tr>\n",
       "    <tr>\n",
       "      <th>5</th>\n",
       "      <td>2024/10/17 2:15:44 PM GMT+1</td>\n",
       "      <td>Very often (everyday!)</td>\n",
       "      <td>Yes!</td>\n",
       "      <td>Tesco;Asda;Morrisons</td>\n",
       "      <td>Indian Cuisine;Mexican Cuisine;Middle Eastern ...</td>\n",
       "      <td>2</td>\n",
       "      <td>No I don't have one</td>\n",
       "      <td>Don't have preference</td>\n",
       "      <td>3</td>\n",
       "    </tr>\n",
       "    <tr>\n",
       "      <th>6</th>\n",
       "      <td>2024/10/17 2:17:07 PM GMT+1</td>\n",
       "      <td>Occasionally (weekly)</td>\n",
       "      <td>Neutral</td>\n",
       "      <td>Tesco;Lidl;Waitrose;Sainsbury's;Co-op Food</td>\n",
       "      <td>Chinese Cuisine;Mexican Cuisine;Thai Cuisine;V...</td>\n",
       "      <td>2</td>\n",
       "      <td>Central (Buckingham Palace, the West End, the ...</td>\n",
       "      <td>Chinese Cuisine</td>\n",
       "      <td>5</td>\n",
       "    </tr>\n",
       "    <tr>\n",
       "      <th>7</th>\n",
       "      <td>2024/10/17 2:40:22 PM GMT+1</td>\n",
       "      <td>Often (4-6 times weekly)</td>\n",
       "      <td>Yes!</td>\n",
       "      <td>Waitrose;Morrisons</td>\n",
       "      <td>Mediterranean Cuisine;Thai Cuisine;West African</td>\n",
       "      <td>3</td>\n",
       "      <td>East (Shoreditch, Hackney, Stratford, and Cana...</td>\n",
       "      <td>Peruvian Cuisine</td>\n",
       "      <td>5</td>\n",
       "    </tr>\n",
       "    <tr>\n",
       "      <th>8</th>\n",
       "      <td>2024/10/17 3:57:36 PM GMT+1</td>\n",
       "      <td>Often (4-6 times weekly)</td>\n",
       "      <td>Yes!</td>\n",
       "      <td>HelloFresh</td>\n",
       "      <td>Chinese Cuisine;Mexican Cuisine;Peruvian Cuisine</td>\n",
       "      <td>4</td>\n",
       "      <td>Central (Buckingham Palace, the West End, the ...</td>\n",
       "      <td>Peruvian Cuisine</td>\n",
       "      <td>5</td>\n",
       "    </tr>\n",
       "    <tr>\n",
       "      <th>9</th>\n",
       "      <td>2024/10/17 4:47:46 PM GMT+1</td>\n",
       "      <td>Very often (everyday!)</td>\n",
       "      <td>Yes!</td>\n",
       "      <td>Tesco;Sainsbury's;Morrisons</td>\n",
       "      <td>Italian Cuisine</td>\n",
       "      <td>3</td>\n",
       "      <td>No I don't have one</td>\n",
       "      <td>Italian Cuisine</td>\n",
       "      <td>5</td>\n",
       "    </tr>\n",
       "    <tr>\n",
       "      <th>10</th>\n",
       "      <td>2024/10/17 8:27:53 PM GMT+1</td>\n",
       "      <td>Often (4-6 times weekly)</td>\n",
       "      <td>Neutral</td>\n",
       "      <td>M&amp;S</td>\n",
       "      <td>Chinese Cuisine</td>\n",
       "      <td>2</td>\n",
       "      <td>Central (Buckingham Palace, the West End, the ...</td>\n",
       "      <td>Chinese Cuisine</td>\n",
       "      <td>1</td>\n",
       "    </tr>\n",
       "    <tr>\n",
       "      <th>11</th>\n",
       "      <td>2024/10/18 9:29:05 AM GMT+1</td>\n",
       "      <td>Often (4-6 times weekly)</td>\n",
       "      <td>Yes!</td>\n",
       "      <td>Morrisons</td>\n",
       "      <td>Italian Cuisine;Indian Cuisine;Japanese Cuisine</td>\n",
       "      <td>3</td>\n",
       "      <td>South (Clapham, Brixton, and Greenwich etc)</td>\n",
       "      <td>Japanese Cuisine</td>\n",
       "      <td>5</td>\n",
       "    </tr>\n",
       "    <tr>\n",
       "      <th>12</th>\n",
       "      <td>2024/10/20 3:02:38 PM GMT+1</td>\n",
       "      <td>Often (4-6 times weekly)</td>\n",
       "      <td>Yes!</td>\n",
       "      <td>not particular about shop</td>\n",
       "      <td>Caribbean Cuisine</td>\n",
       "      <td>2</td>\n",
       "      <td>No I don't have one</td>\n",
       "      <td>Caribbean Cuisine</td>\n",
       "      <td>4</td>\n",
       "    </tr>\n",
       "    <tr>\n",
       "      <th>13</th>\n",
       "      <td>2024/10/21 11:08:14 AM GMT+1</td>\n",
       "      <td>Often (4-6 times weekly)</td>\n",
       "      <td>Yes!</td>\n",
       "      <td>Sainsbury's;Farmers' Market /Independent Shops</td>\n",
       "      <td>Mediterranean Cuisine;Middle Eastern Cuisine;T...</td>\n",
       "      <td>4</td>\n",
       "      <td>South (Clapham, Brixton, and Greenwich etc)</td>\n",
       "      <td>Italian Cuisine;Middle Eastern Cuisine</td>\n",
       "      <td>5</td>\n",
       "    </tr>\n",
       "    <tr>\n",
       "      <th>14</th>\n",
       "      <td>2024/10/22 10:04:59 AM GMT+1</td>\n",
       "      <td>Occasionally (weekly)</td>\n",
       "      <td>Yes!</td>\n",
       "      <td>Tesco;Sainsbury's;Farmers' Market /Independent...</td>\n",
       "      <td>Japanese Cuisine;Mexican Cuisine;Thai Cuisine</td>\n",
       "      <td>3</td>\n",
       "      <td>East (Shoreditch, Hackney, Stratford, and Cana...</td>\n",
       "      <td>Japanese Cuisine;Mexican Cuisine;Thai Cuisine</td>\n",
       "      <td>3</td>\n",
       "    </tr>\n",
       "    <tr>\n",
       "      <th>15</th>\n",
       "      <td>2024/10/22 10:08:07 AM GMT+1</td>\n",
       "      <td>Occasionally (weekly)</td>\n",
       "      <td>Yes!</td>\n",
       "      <td>Morrisons</td>\n",
       "      <td>Chinese Cuisine;Japanese Cuisine</td>\n",
       "      <td>2</td>\n",
       "      <td>East (Shoreditch, Hackney, Stratford, and Cana...</td>\n",
       "      <td>Chinese Cuisine;Italian Cuisine;Japanese Cuisi...</td>\n",
       "      <td>3</td>\n",
       "    </tr>\n",
       "    <tr>\n",
       "      <th>16</th>\n",
       "      <td>2024/10/22 10:14:39 AM GMT+1</td>\n",
       "      <td>Occasionally (weekly)</td>\n",
       "      <td>Yes!</td>\n",
       "      <td>Waitrose;Sainsbury's</td>\n",
       "      <td>Thai Cuisine</td>\n",
       "      <td>3</td>\n",
       "      <td>West (Kensington, Chelsea, and Notting Hill etc)</td>\n",
       "      <td>Laos</td>\n",
       "      <td>4</td>\n",
       "    </tr>\n",
       "  </tbody>\n",
       "</table>\n",
       "</div>"
      ],
      "text/plain": [
       "                       Timestamp                      Cook    Enjoy  \\\n",
       "0    2024/10/17 2:13:19 PM GMT+1  Often (4-6 times weekly)     Yes!   \n",
       "1    2024/10/17 2:13:19 PM GMT+1  Often (4-6 times weekly)  Neutral   \n",
       "2    2024/10/17 2:14:21 PM GMT+1         Rare (0-2 weekly)     Yes!   \n",
       "3    2024/10/17 2:14:35 PM GMT+1         Rare (0-2 weekly)  Neutral   \n",
       "4    2024/10/17 2:15:21 PM GMT+1    Very often (everyday!)     Yes!   \n",
       "5    2024/10/17 2:15:44 PM GMT+1    Very often (everyday!)     Yes!   \n",
       "6    2024/10/17 2:17:07 PM GMT+1     Occasionally (weekly)  Neutral   \n",
       "7    2024/10/17 2:40:22 PM GMT+1  Often (4-6 times weekly)     Yes!   \n",
       "8    2024/10/17 3:57:36 PM GMT+1  Often (4-6 times weekly)     Yes!   \n",
       "9    2024/10/17 4:47:46 PM GMT+1    Very often (everyday!)     Yes!   \n",
       "10   2024/10/17 8:27:53 PM GMT+1  Often (4-6 times weekly)  Neutral   \n",
       "11   2024/10/18 9:29:05 AM GMT+1  Often (4-6 times weekly)     Yes!   \n",
       "12   2024/10/20 3:02:38 PM GMT+1  Often (4-6 times weekly)     Yes!   \n",
       "13  2024/10/21 11:08:14 AM GMT+1  Often (4-6 times weekly)     Yes!   \n",
       "14  2024/10/22 10:04:59 AM GMT+1     Occasionally (weekly)     Yes!   \n",
       "15  2024/10/22 10:08:07 AM GMT+1     Occasionally (weekly)     Yes!   \n",
       "16  2024/10/22 10:14:39 AM GMT+1     Occasionally (weekly)     Yes!   \n",
       "\n",
       "                                              Grocery  \\\n",
       "0                  Tesco;Sainsbury's;Chinese store!!!   \n",
       "1                                  Asda;Lidl;Waitrose   \n",
       "2                                            Waitrose   \n",
       "3   Tesco;Sainsbury's;Farmers' Market /Independent...   \n",
       "4                                                Lidl   \n",
       "5                                Tesco;Asda;Morrisons   \n",
       "6          Tesco;Lidl;Waitrose;Sainsbury's;Co-op Food   \n",
       "7                                  Waitrose;Morrisons   \n",
       "8                                          HelloFresh   \n",
       "9                         Tesco;Sainsbury's;Morrisons   \n",
       "10                                                M&S   \n",
       "11                                          Morrisons   \n",
       "12                          not particular about shop   \n",
       "13     Sainsbury's;Farmers' Market /Independent Shops   \n",
       "14  Tesco;Sainsbury's;Farmers' Market /Independent...   \n",
       "15                                          Morrisons   \n",
       "16                               Waitrose;Sainsbury's   \n",
       "\n",
       "                                            Favourite Meals  \\\n",
       "0       Chinese Cuisine;Japanese Cuisine;Thai Cuisine     3   \n",
       "1                                  Caribbean Cuisine;    4+   \n",
       "2    Chinese Cuisine;Italian Cuisine;Japanese Cuisine     2   \n",
       "3               Japanese Cuisine;Thai Cuisine;Burmese     3   \n",
       "4         Indian Cuisine;Mexican Cuisine;Thai Cuisine     3   \n",
       "5   Indian Cuisine;Mexican Cuisine;Middle Eastern ...     2   \n",
       "6   Chinese Cuisine;Mexican Cuisine;Thai Cuisine;V...     2   \n",
       "7     Mediterranean Cuisine;Thai Cuisine;West African     3   \n",
       "8    Chinese Cuisine;Mexican Cuisine;Peruvian Cuisine     4   \n",
       "9                                     Italian Cuisine     3   \n",
       "10                                    Chinese Cuisine     2   \n",
       "11    Italian Cuisine;Indian Cuisine;Japanese Cuisine     3   \n",
       "12                                  Caribbean Cuisine     2   \n",
       "13  Mediterranean Cuisine;Middle Eastern Cuisine;T...     4   \n",
       "14      Japanese Cuisine;Mexican Cuisine;Thai Cuisine     3   \n",
       "15                   Chinese Cuisine;Japanese Cuisine     2   \n",
       "16                                       Thai Cuisine     3   \n",
       "\n",
       "                                             Location  \\\n",
       "0   Central (Buckingham Palace, the West End, the ...   \n",
       "1         South (Clapham, Brixton, and Greenwich etc)   \n",
       "2   East (Shoreditch, Hackney, Stratford, and Cana...   \n",
       "3   East (Shoreditch, Hackney, Stratford, and Cana...   \n",
       "4   East (Shoreditch, Hackney, Stratford, and Cana...   \n",
       "5                                 No I don't have one   \n",
       "6   Central (Buckingham Palace, the West End, the ...   \n",
       "7   East (Shoreditch, Hackney, Stratford, and Cana...   \n",
       "8   Central (Buckingham Palace, the West End, the ...   \n",
       "9                                 No I don't have one   \n",
       "10  Central (Buckingham Palace, the West End, the ...   \n",
       "11        South (Clapham, Brixton, and Greenwich etc)   \n",
       "12                                No I don't have one   \n",
       "13        South (Clapham, Brixton, and Greenwich etc)   \n",
       "14  East (Shoreditch, Hackney, Stratford, and Cana...   \n",
       "15  East (Shoreditch, Hackney, Stratford, and Cana...   \n",
       "16   West (Kensington, Chelsea, and Notting Hill etc)   \n",
       "\n",
       "                                       RestaurantType  Rating  \n",
       "0                                        Thai Cuisine       2  \n",
       "1                                   Caribbean Cuisine       5  \n",
       "2                                     Chinese Cuisine       4  \n",
       "3                       Japanese Cuisine;Thai Cuisine       3  \n",
       "4                                        Thai Cuisine       6  \n",
       "5                               Don't have preference       3  \n",
       "6                                     Chinese Cuisine       5  \n",
       "7                                    Peruvian Cuisine       5  \n",
       "8                                    Peruvian Cuisine       5  \n",
       "9                                     Italian Cuisine       5  \n",
       "10                                    Chinese Cuisine       1  \n",
       "11                                   Japanese Cuisine       5  \n",
       "12                                  Caribbean Cuisine       4  \n",
       "13             Italian Cuisine;Middle Eastern Cuisine       5  \n",
       "14      Japanese Cuisine;Mexican Cuisine;Thai Cuisine       3  \n",
       "15  Chinese Cuisine;Italian Cuisine;Japanese Cuisi...       3  \n",
       "16                                               Laos       4  "
      ]
     },
     "metadata": {},
     "output_type": "display_data"
    }
   ],
   "source": [
    "display(df)"
   ]
  },
  {
   "cell_type": "code",
   "execution_count": 8,
   "id": "33b085ec-c21d-4595-8954-8a6d60661a8e",
   "metadata": {},
   "outputs": [
    {
     "name": "stdout",
     "output_type": "stream",
     "text": [
      "Cook\n",
      "Often (4-6 times weekly)    8\n",
      "Occasionally (weekly)       4\n",
      "Very often (everyday!)      3\n",
      "Rare (0-2 weekly)           2\n",
      "Name: count, dtype: int64\n"
     ]
    }
   ],
   "source": [
    "cook = df.Cook.value_counts()\n",
    "print(cook)"
   ]
  },
  {
   "cell_type": "code",
   "execution_count": 9,
   "id": "589f5e0c-7475-4030-a3c2-7693319fa925",
   "metadata": {},
   "outputs": [
    {
     "data": {
      "text/plain": [
       "Enjoy\n",
       "Yes!       13\n",
       "Neutral     4\n",
       "Name: count, dtype: int64"
      ]
     },
     "execution_count": 9,
     "metadata": {},
     "output_type": "execute_result"
    }
   ],
   "source": [
    "df.Enjoy.value_counts()"
   ]
  },
  {
   "cell_type": "code",
   "execution_count": 10,
   "id": "ed3ed533-9a4e-46f7-af56-2affe3ec1721",
   "metadata": {},
   "outputs": [
    {
     "data": {
      "image/png": "[encoded data removed]",
      "text/plain": [
       "<Figure size 640x480 with 1 Axes>"
      ]
     },
     "metadata": {},
     "output_type": "display_data"
    }
   ],
   "source": [
    "cook.plot.pie(autopct='%1.1f%%', startangle=90)\n",
    "plt.title('Pie Chart from Series')\n",
    "plt.show()"
   ]
  },
  {
   "cell_type": "code",
   "execution_count": 11,
   "id": "887d8dd9-dd66-445a-9b16-52c904ab4c0f",
   "metadata": {},
   "outputs": [
    {
     "ename": "KeyError",
     "evalue": "'Cook?'",
     "output_type": "error",
     "traceback": [
      "\u001b[1;31m---------------------------------------------------------------------------\u001b[0m",
      "\u001b[1;31mKeyError\u001b[0m                                  Traceback (most recent call last)",
      "File \u001b[1;32m~\\AppData\\Local\\Programs\\Python\\Python312\\Lib\\site-packages\\pandas\\core\\indexes\\base.py:3805\u001b[0m, in \u001b[0;36mIndex.get_loc\u001b[1;34m(self, key)\u001b[0m\n\u001b[0;32m   3804\u001b[0m \u001b[38;5;28;01mtry\u001b[39;00m:\n\u001b[1;32m-> 3805\u001b[0m     \u001b[38;5;28;01mreturn\u001b[39;00m \u001b[38;5;28;43mself\u001b[39;49m\u001b[38;5;241;43m.\u001b[39;49m\u001b[43m_engine\u001b[49m\u001b[38;5;241;43m.\u001b[39;49m\u001b[43mget_loc\u001b[49m\u001b[43m(\u001b[49m\u001b[43mcasted_key\u001b[49m\u001b[43m)\u001b[49m\n\u001b[0;32m   3806\u001b[0m \u001b[38;5;28;01mexcept\u001b[39;00m \u001b[38;5;167;01mKeyError\u001b[39;00m \u001b[38;5;28;01mas\u001b[39;00m err:\n",
      "File \u001b[1;32mindex.pyx:167\u001b[0m, in \u001b[0;36mpandas._libs.index.IndexEngine.get_loc\u001b[1;34m()\u001b[0m\n",
      "File \u001b[1;32mindex.pyx:196\u001b[0m, in \u001b[0;36mpandas._libs.index.IndexEngine.get_loc\u001b[1;34m()\u001b[0m\n",
      "File \u001b[1;32mpandas\\\\_libs\\\\hashtable_class_helper.pxi:7081\u001b[0m, in \u001b[0;36mpandas._libs.hashtable.PyObjectHashTable.get_item\u001b[1;34m()\u001b[0m\n",
      "File \u001b[1;32mpandas\\\\_libs\\\\hashtable_class_helper.pxi:7089\u001b[0m, in \u001b[0;36mpandas._libs.hashtable.PyObjectHashTable.get_item\u001b[1;34m()\u001b[0m\n",
      "\u001b[1;31mKeyError\u001b[0m: 'Cook?'",
      "\nThe above exception was the direct cause of the following exception:\n",
      "\u001b[1;31mKeyError\u001b[0m                                  Traceback (most recent call last)",
      "Cell \u001b[1;32mIn[11], line 1\u001b[0m\n\u001b[1;32m----> 1\u001b[0m \u001b[43mdf\u001b[49m\u001b[43m[\u001b[49m\u001b[38;5;124;43m\"\u001b[39;49m\u001b[38;5;124;43mCook?\u001b[39;49m\u001b[38;5;124;43m\"\u001b[39;49m\u001b[43m]\u001b[49m\n",
      "File \u001b[1;32m~\\AppData\\Local\\Programs\\Python\\Python312\\Lib\\site-packages\\pandas\\core\\frame.py:4102\u001b[0m, in \u001b[0;36mDataFrame.__getitem__\u001b[1;34m(self, key)\u001b[0m\n\u001b[0;32m   4100\u001b[0m \u001b[38;5;28;01mif\u001b[39;00m \u001b[38;5;28mself\u001b[39m\u001b[38;5;241m.\u001b[39mcolumns\u001b[38;5;241m.\u001b[39mnlevels \u001b[38;5;241m>\u001b[39m \u001b[38;5;241m1\u001b[39m:\n\u001b[0;32m   4101\u001b[0m     \u001b[38;5;28;01mreturn\u001b[39;00m \u001b[38;5;28mself\u001b[39m\u001b[38;5;241m.\u001b[39m_getitem_multilevel(key)\n\u001b[1;32m-> 4102\u001b[0m indexer \u001b[38;5;241m=\u001b[39m \u001b[38;5;28;43mself\u001b[39;49m\u001b[38;5;241;43m.\u001b[39;49m\u001b[43mcolumns\u001b[49m\u001b[38;5;241;43m.\u001b[39;49m\u001b[43mget_loc\u001b[49m\u001b[43m(\u001b[49m\u001b[43mkey\u001b[49m\u001b[43m)\u001b[49m\n\u001b[0;32m   4103\u001b[0m \u001b[38;5;28;01mif\u001b[39;00m is_integer(indexer):\n\u001b[0;32m   4104\u001b[0m     indexer \u001b[38;5;241m=\u001b[39m [indexer]\n",
      "File \u001b[1;32m~\\AppData\\Local\\Programs\\Python\\Python312\\Lib\\site-packages\\pandas\\core\\indexes\\base.py:3812\u001b[0m, in \u001b[0;36mIndex.get_loc\u001b[1;34m(self, key)\u001b[0m\n\u001b[0;32m   3807\u001b[0m     \u001b[38;5;28;01mif\u001b[39;00m \u001b[38;5;28misinstance\u001b[39m(casted_key, \u001b[38;5;28mslice\u001b[39m) \u001b[38;5;129;01mor\u001b[39;00m (\n\u001b[0;32m   3808\u001b[0m         \u001b[38;5;28misinstance\u001b[39m(casted_key, abc\u001b[38;5;241m.\u001b[39mIterable)\n\u001b[0;32m   3809\u001b[0m         \u001b[38;5;129;01mand\u001b[39;00m \u001b[38;5;28many\u001b[39m(\u001b[38;5;28misinstance\u001b[39m(x, \u001b[38;5;28mslice\u001b[39m) \u001b[38;5;28;01mfor\u001b[39;00m x \u001b[38;5;129;01min\u001b[39;00m casted_key)\n\u001b[0;32m   3810\u001b[0m     ):\n\u001b[0;32m   3811\u001b[0m         \u001b[38;5;28;01mraise\u001b[39;00m InvalidIndexError(key)\n\u001b[1;32m-> 3812\u001b[0m     \u001b[38;5;28;01mraise\u001b[39;00m \u001b[38;5;167;01mKeyError\u001b[39;00m(key) \u001b[38;5;28;01mfrom\u001b[39;00m \u001b[38;5;21;01merr\u001b[39;00m\n\u001b[0;32m   3813\u001b[0m \u001b[38;5;28;01mexcept\u001b[39;00m \u001b[38;5;167;01mTypeError\u001b[39;00m:\n\u001b[0;32m   3814\u001b[0m     \u001b[38;5;66;03m# If we have a listlike key, _check_indexing_error will raise\u001b[39;00m\n\u001b[0;32m   3815\u001b[0m     \u001b[38;5;66;03m#  InvalidIndexError. Otherwise we fall through and re-raise\u001b[39;00m\n\u001b[0;32m   3816\u001b[0m     \u001b[38;5;66;03m#  the TypeError.\u001b[39;00m\n\u001b[0;32m   3817\u001b[0m     \u001b[38;5;28mself\u001b[39m\u001b[38;5;241m.\u001b[39m_check_indexing_error(key)\n",
      "\u001b[1;31mKeyError\u001b[0m: 'Cook?'"
     ]
    }
   ],
   "source": [
    "df[\"Cook?\"]"
   ]
  },
  {
   "cell_type": "code",
   "execution_count": null,
   "id": "029292d6-ab68-4869-ac5e-194c7bbb861d",
   "metadata": {},
   "outputs": [],
   "source": [
    "df[\"Cook?\"].value_counts()"
   ]
  },
  {
   "cell_type": "code",
   "execution_count": null,
   "id": "52710220-ec5c-4498-bdd1-8ce984c73ba3",
   "metadata": {},
   "outputs": [],
   "source": [
    "df[\"Enjoy?\"].value_counts()"
   ]
  },
  {
   "cell_type": "code",
   "execution_count": null,
   "id": "d6c4325c-673d-43c6-ab2d-df2146182409",
   "metadata": {},
   "outputs": [],
   "source": [
    "avg_rate = df.groupby('Cook?')['Rate?'].mean()\n",
    "print(avg_rate)"
   ]
  },
  {
   "cell_type": "code",
   "execution_count": null,
   "id": "66de6679-652e-46f5-bac6-a41eb0f03955",
   "metadata": {},
   "outputs": [],
   "source": [
    "avg_rate.plot(kind='bar')\n",
    "plt.title('Average Rating by People')\n",
    "plt.xlabel('Cook?')\n",
    "plt.ylabel('Rate?')\n",
    "plt.show()"
   ]
  },
  {
   "cell_type": "code",
   "execution_count": null,
   "id": "43703471-ad97-4140-b894-59048863cc21",
   "metadata": {},
   "outputs": [],
   "source": []
  },
  {
   "cell_type": "code",
   "execution_count": null,
   "id": "c0ae4794-e7a0-48da-9a28-71df1c53e59c",
   "metadata": {},
   "outputs": [],
   "source": [
    "print(df.head())"
   ]
  },
  {
   "cell_type": "code",
   "execution_count": null,
   "id": "5a28b8ba-b4f6-497e-b6f1-0330a014a670",
   "metadata": {},
   "outputs": [],
   "source": [
    "response_counts = df[\"Enjoy\"].value_counts()\n",
    "print(response_counts)"
   ]
  },
  {
   "cell_type": "code",
   "execution_count": null,
   "id": "a2e66a0a-1340-4886-8263-3666ad538aee",
   "metadata": {},
   "outputs": [],
   "source": [
    "response_counts.plot.pie()\n",
    "plt.title(\"Do you enjoy cooking in general?\")\n",
    "plt.show"
   ]
  },
  {
   "cell_type": "code",
   "execution_count": null,
   "id": "6e353458-6d10-4e75-8d78-60c7d5c6acb9",
   "metadata": {},
   "outputs": [],
   "source": [
    "print(df[\"Rating\"].value_counts())"
   ]
  },
  {
   "cell_type": "code",
   "execution_count": null,
   "id": "54db96a1-4773-4d7f-93e5-9dcded55ccd8",
   "metadata": {},
   "outputs": [],
   "source": [
    "print(df.columns)"
   ]
  },
  {
   "cell_type": "code",
   "execution_count": null,
   "id": "0915a43d-46ae-408f-a266-70fec400aabb",
   "metadata": {},
   "outputs": [],
   "source": [
    "df.loc[df.Enjoy ==\"Neutral\"]"
   ]
  },
  {
   "cell_type": "code",
   "execution_count": null,
   "id": "6a44e05b-373a-47c4-b2f0-67fba1af979c",
   "metadata": {},
   "outputs": [],
   "source": [
    "df.Rating.value_counts()"
   ]
  },
  {
   "cell_type": "code",
   "execution_count": null,
   "id": "91c93652-61d7-4a7e-9e4e-d5b50f9b174a",
   "metadata": {},
   "outputs": [],
   "source": [
    "plt.hist(df.Rating, bins = 12)\n",
    "plt.xlabel(\"Rating\")\n",
    "plt.ylabel(\"Number of people\")\n",
    "plt.title(\"Distribution of ratings among people\")"
   ]
  },
  {
   "cell_type": "code",
   "execution_count": null,
   "id": "05616f26-7016-4260-9109-5edb74cd2de1",
   "metadata": {},
   "outputs": [],
   "source": [
    "#Make a subsection of dataframe which only consist of people who fancy cooking\n",
    "#two dimension = TWO set of bracket\n",
    "love_cooking_df = df[[ key for key in df.Enjoy == \"Yes!\" ]]"
   ]
  },
  {
   "cell_type": "code",
   "execution_count": null,
   "id": "34564c0d-13db-41ae-ac45-24f1d9b5e26d",
   "metadata": {},
   "outputs": [],
   "source": [
    "display(love_cooking_df)"
   ]
  },
  {
   "cell_type": "code",
   "execution_count": null,
   "id": "af521d99-2dc8-469a-bfde-f7e71bc1b17f",
   "metadata": {},
   "outputs": [],
   "source": [
    "group_data = df.groupby(\"Enjoy\")[\"Enjoy\"].count()"
   ]
  },
  {
   "cell_type": "code",
   "execution_count": null,
   "id": "94d7c938-1cb8-4d48-af96-739de968dac0",
   "metadata": {},
   "outputs": [],
   "source": [
    "print(group_data)"
   ]
  },
  {
   "cell_type": "code",
   "execution_count": null,
   "id": "d80fa98b-d5f4-4c56-b4b8-31a5e9d730c2",
   "metadata": {},
   "outputs": [],
   "source": [
    "group_data.plot(kind='bar')\n",
    "plt.title('Average Rating by People')\n",
    "plt.xlabel('Do you enjoy cooking?')\n",
    "plt.ylabel('Number of People')\n",
    "plt.show()"
   ]
  },
  {
   "cell_type": "code",
   "execution_count": null,
   "id": "721f5353-63f0-49e0-ba22-8ee0dbb2e5ab",
   "metadata": {},
   "outputs": [],
   "source": [
    "grocery = df[\"Grocery\"].value_counts() \n",
    "grocery.plot.pie()\n",
    "plt.title(\"Where do you usually shop groceries?\")\n",
    "plt.show"
   ]
  },
  {
   "cell_type": "code",
   "execution_count": null,
   "id": "0e277638-ccb1-4c95-8be2-97a45e60e1dc",
   "metadata": {},
   "outputs": [],
   "source": [
    "print(grocery)"
   ]
  },
  {
   "cell_type": "code",
   "execution_count": null,
   "id": "e0a0c21e-4bff-4df3-b40c-d834473a8e3a",
   "metadata": {},
   "outputs": [],
   "source": [
    "cookinglovers = df[df[\"Enjoy\"] == \"Yes!\"]\n",
    "print(cookinglovers)\n",
    "\n",
    "#GPT note - # Filter the DataFrame to only include rows where 'Enjoy' column has \"Yes!\"\n",
    "#cookinglovers = df[df['Enjoy'] == \"Yes!\"]\n",
    "#print(cookinglovers)"
   ]
  },
  {
   "cell_type": "code",
   "execution_count": null,
   "id": "2461e82a-a6ee-4b33-9716-3ff56ab64a68",
   "metadata": {},
   "outputs": [],
   "source": [
    "location_data = df.groupby(\"Location\")[\"Location\"].count()\n",
    "print(location_data)"
   ]
  },
  {
   "cell_type": "code",
   "execution_count": null,
   "id": "fbc40ff5-55e1-4dd2-a502-64e36850c866",
   "metadata": {},
   "outputs": [],
   "source": [
    "#iincluding the parameters of pie (want to show the number of people (int) for each options as well but seems a bit complicated)\n",
    "location_data.plot.pie(autopct = \"%1.1f%%\")\n",
    "plt.title(\"Do you enjoy cooking in general?\")\n",
    "plt.show"
   ]
  },
  {
   "cell_type": "code",
   "execution_count": null,
   "id": "02c5736d-e504-4405-ab7b-96ec59a63009",
   "metadata": {},
   "outputs": [],
   "source": [
    "plt.hist(df.Location, bins = 12)\n",
    "plt.xlabel(\"location\")\n",
    "plt.xticks(rotation=90)\n",
    "plt.ylabel(\"Number of people\")\n",
    "plt.title(\"Distribution of Favourite Restaurants locations in London \")"
   ]
  },
  {
   "cell_type": "code",
   "execution_count": null,
   "id": "df7e5c22-3a44-4b39-93d5-005e3fde49b8",
   "metadata": {},
   "outputs": [],
   "source": [
    "# Step 1: Filter DataFrame for those who chose \"East\"\n",
    "#east_people = df[df['Location'].str.contains('East')]\n",
    "#df[...] is a boolean\n",
    "#.str  ---  turns unique value into strings\n",
    "\n",
    "# Step 2: Group by 'RestaurantType' and count occurrences\n",
    "#cuisine_counts = east_people['RestaurantType'].value_counts()\n",
    "\n",
    "# Output the results\n",
    "#print(cuisine_counts)\n",
    "\n",
    "#filter out the row of people who has their fav restaurants in East, loving east\n",
    "east_people = df[df[\"Location\"].str.contains(\"East\")]\n",
    "print(east_people.dtypes)"
   ]
  },
  {
   "cell_type": "code",
   "execution_count": null,
   "id": "3dc1769e-41e1-45c6-ac5c-e00cb17ca04a",
   "metadata": {},
   "outputs": [],
   "source": [
    "east_people_fav_cuisine = east_people[\"RestaurantType\"].value_counts()\n",
    "print(east_people_fav_cuisine)"
   ]
  },
  {
   "cell_type": "code",
   "execution_count": null,
   "id": "d758605c-6c29-4162-8481-14518148dc84",
   "metadata": {},
   "outputs": [],
   "source": [
    "new_word_mapping = {\"East (Shoreditch, Hackney, Stratford, and Canary Wharf etc)\":\"East\",\"North (Camden, Islington, and Hampstead etc)\":\"North\",\n",
    "            \"South (Clapham, Brixton, and Greenwich etc)\":\"South\",\"West (Kensington, Chelsea, and Notting Hill etc)\":\"West\", \"Central (Buckingham Palace, the West End, the City of London etc)\":\"Central\", \"No I don't have one\":\"None\" }\n",
    "new_word = df['Location'].map(new_word_mapping)\n",
    "df['Location'] = new_word\n",
    "print(df)"
   ]
  },
  {
   "cell_type": "code",
   "execution_count": null,
   "id": "b18b7fee-2546-4949-b92b-56238eb24930",
   "metadata": {},
   "outputs": [],
   "source": [
    "plt.hist(df.Location, bins = 12)\n",
    "plt.xlabel(\"location\")\n",
    "plt.ylabel(\"Number of people\")\n",
    "plt.title(\"Distribution of Favourite Restaurants locations in London \")"
   ]
  },
  {
   "cell_type": "code",
   "execution_count": null,
   "id": "394b3f1c-82c9-4d39-b5cf-a233407eb011",
   "metadata": {},
   "outputs": [],
   "source": [
    "print(df['RestaurantType'].value_counts() )"
   ]
  },
  {
   "cell_type": "code",
   "execution_count": null,
   "id": "8385cab2-6357-4b65-8ae3-5dc07ae63631",
   "metadata": {},
   "outputs": [],
   "source": [
    "df['RestaurantType'] = df['RestaurantType'].str.split(';')\n",
    "print(df['RestaurantType'] )"
   ]
  },
  {
   "cell_type": "code",
   "execution_count": null,
   "id": "209548e5-7196-4fb7-9485-eda377645906",
   "metadata": {},
   "outputs": [],
   "source": [
    "exploded_restaurant_df = df.explode('RestaurantType')\n",
    "print(exploded_restaurant_df.RestaurantType)"
   ]
  },
  {
   "cell_type": "code",
   "execution_count": null,
   "id": "340c024d-49da-4cc3-8fdf-e11ab5bb9560",
   "metadata": {},
   "outputs": [],
   "source": [
    "cuisine_counts = exploded_restaurant_df['RestaurantType'].value_counts()\n",
    "print(cuisine_counts)"
   ]
  },
  {
   "cell_type": "code",
   "execution_count": null,
   "id": "c3807a6b-e5c6-429b-9964-d49768b3d8e3",
   "metadata": {},
   "outputs": [],
   "source": [
    "cuisine_counts.plot.pie(autopct = \"%1.1f%%\")\n",
    "plt.title(\"Your Favourite Restaurant Type?\")\n",
    "plt.show"
   ]
  },
  {
   "cell_type": "code",
   "execution_count": null,
   "id": "66f63351-fb39-4c80-ab97-0fffadb49fb5",
   "metadata": {},
   "outputs": [],
   "source": [
    "#TO KAT : I tried using the For/In/If function like you shown in the pingpong team example, but somehow it is not working for me, even trying to solve with ChatGPT\n",
    "\n",
    "# Step 1: Define a list of all possible cuisine types\n",
    "cuisine_types = ['Chinese Cuisine', 'Japanese Cuisine', 'Thai Cuisine', 'Peruvian Cuisine',\n",
    "                 'Mexican Cuisine', 'Italian Cuisine']\n",
    "\n",
    "# Step 2: Initialize an empty dictionary to hold the counts\n",
    "cuisine_counts = {cuisine: 0 for cuisine in cuisine_types}\n",
    "\n",
    "# Step 3: Iterate through each response in the 'RestaurantType' column\n",
    "for response in df['RestaurantType']:\n",
    "    # Split the multiple responses into a list\n",
    "    cuisines_in_response = response.split(';')\n",
    "    \n",
    "    # Check if each cuisine is present in the response, then update the count\n",
    "    for cuisine in cuisine_types:\n",
    "        if isinstance(response, str):\n",
    "          if cuisine in cuisines_in_response:\n",
    "            cuisine_counts[cuisine] += 1\n",
    "        \n",
    "\n",
    "# Display the resulting dictionary with the cuisine counts\n",
    "print(cuisine_counts)"
   ]
  },
  {
   "cell_type": "code",
   "execution_count": null,
   "id": "0b3f41d2-225b-4d5a-9fa1-63a04505e21d",
   "metadata": {},
   "outputs": [],
   "source": []
  },
  {
   "cell_type": "code",
   "execution_count": null,
   "id": "ba7f612c-c356-44b8-8039-8fec89427c8a",
   "metadata": {},
   "outputs": [],
   "source": []
  }
 ],
 "metadata": {
  "kernelspec": {
   "display_name": "Python 3 (ipykernel)",
   "language": "python",
   "name": "python3"
  },
  "language_info": {
   "codemirror_mode": {
    "name": "ipython",
    "version": 3
   },
   "file_extension": ".py",
   "mimetype": "text/x-python",
   "name": "python",
   "nbconvert_exporter": "python",
   "pygments_lexer": "ipython3",
   "version": "3.12.7"
  }
 },
 "nbformat": 4,
 "nbformat_minor": 5
}
